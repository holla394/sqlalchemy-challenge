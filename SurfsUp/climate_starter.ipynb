{
 "cells": [
  {
   "cell_type": "code",
   "execution_count": 21,
   "metadata": {},
   "outputs": [],
   "source": [
    "%matplotlib inline\n",
    "from matplotlib import style\n",
    "style.use('fivethirtyeight')\n",
    "import matplotlib.pyplot as plt"
   ]
  },
  {
   "cell_type": "code",
   "execution_count": 22,
   "metadata": {},
   "outputs": [],
   "source": [
    "import numpy as np\n",
    "import pandas as pd\n",
    "import datetime as dt"
   ]
  },
  {
   "cell_type": "markdown",
   "metadata": {},
   "source": [
    "# Reflect Tables into SQLAlchemy ORM"
   ]
  },
  {
   "cell_type": "code",
   "execution_count": 23,
   "metadata": {},
   "outputs": [],
   "source": [
    "# Python SQL toolkit and Object Relational Mapper\n",
    "import sqlalchemy\n",
    "from sqlalchemy.ext.automap import automap_base\n",
    "from sqlalchemy.orm import Session\n",
    "from sqlalchemy import create_engine, func, asc, desc"
   ]
  },
  {
   "cell_type": "code",
   "execution_count": 24,
   "metadata": {},
   "outputs": [],
   "source": [
    "# create engine to hawaii.sqlite\n",
    "engine = create_engine(\"sqlite:///../Resources/hawaii.sqlite\")"
   ]
  },
  {
   "cell_type": "code",
   "execution_count": 25,
   "metadata": {},
   "outputs": [],
   "source": [
    "# reflect an existing database into a new model\n",
    "Base = automap_base()\n",
    "\n",
    "# reflect the tables\n",
    "Base.prepare(autoload_with=engine)"
   ]
  },
  {
   "cell_type": "code",
   "execution_count": 26,
   "metadata": {},
   "outputs": [
    {
     "data": {
      "text/plain": [
       "['measurement', 'station']"
      ]
     },
     "execution_count": 26,
     "metadata": {},
     "output_type": "execute_result"
    }
   ],
   "source": [
    "# View all of the classes that automap found\n",
    "Base.classes.keys()"
   ]
  },
  {
   "cell_type": "code",
   "execution_count": 49,
   "metadata": {},
   "outputs": [],
   "source": [
    "# Save references to each table\n",
    "Measurement = Base.classes.measurement\n",
    "Station = Base.classes.station"
   ]
  },
  {
   "cell_type": "code",
   "execution_count": 50,
   "metadata": {},
   "outputs": [],
   "source": [
    "# Create our session (link) from Python to the DB\n",
    "session = Session(engine)"
   ]
  },
  {
   "cell_type": "markdown",
   "metadata": {},
   "source": [
    "# Exploratory Precipitation Analysis"
   ]
  },
  {
   "cell_type": "code",
   "execution_count": 51,
   "metadata": {},
   "outputs": [
    {
     "name": "stdout",
     "output_type": "stream",
     "text": [
      "2017-08-23\n"
     ]
    }
   ],
   "source": [
    "# Find the most recent date in the data set.\n",
    "recent_date = session.query(Measurement.date).order_by(Measurement.date.desc()).first()[0]\n",
    "print(recent_date)\n",
    "recent_date = dt.datetime.strptime(recent_date, '%Y-%m-%d')\n",
    "recent_date = recent_date.date()"
   ]
  },
  {
   "cell_type": "code",
   "execution_count": 77,
   "metadata": {},
   "outputs": [
    {
     "data": {
      "image/png": "[encoded data removed]",
      "text/plain": [
       "<Figure size 432x288 with 1 Axes>"
      ]
     },
     "metadata": {},
     "output_type": "display_data"
    }
   ],
   "source": [
    "# Design a query to retrieve the last 12 months of precipitation data and plot the results. \n",
    "# Starting from the most recent data point in the database. \n",
    "\n",
    "# Calculate the date one year from the last date in data set.\n",
    "last_date = recent_date - dt.timedelta(weeks=10)\n",
    "\n",
    "# Design a query to find the most active stations (i.e. what stations have the most rows?)\n",
    "active_stations = session.query(Station.station, func.count(Station.station))\\\n",
    "    .group_by(Station.station).order_by(func.count(Station.station).desc()).all()\n",
    "\n",
    "# List the stations and the counts in descending order.\n",
    "most_active = active_stations[0][0]\n",
    "\n",
    "# Perform a query to retrieve the data and precipitation scores\n",
    "last12 = session.query(Measurement.date, Measurement.prcp)\\\n",
    "    .where(Measurement.date >= last_date, Measurement.station == most_active)\\\n",
    "        .all()\n",
    "\n",
    "# Save the query results as a Pandas DataFrame and set the index to the date column\n",
    "df_precipitation = pd.DataFrame(last12, columns=['date','precipitation'])\n",
    "df_precipitation.set_index('date', inplace=True)\n",
    "df_precipitation.head()\n",
    "\n",
    "# Sort the dataframe by date\n",
    "df_precipitation.sort_index(ascending=False, axis=0)\n",
    "\n",
    "# Use Pandas Plotting with Matplotlib to plot the data\n",
    "df_precipitation.plot(kind='bar')\n",
    "plt.xticks()\n",
    "plt.show()\n",
    "\n"
   ]
  },
  {
   "cell_type": "code",
   "execution_count": 53,
   "metadata": {},
   "outputs": [
    {
     "data": {
      "text/html": [
       "<div>\n",
       "<style scoped>\n",
       "    .dataframe tbody tr th:only-of-type {\n",
       "        vertical-align: middle;\n",
       "    }\n",
       "\n",
       "    .dataframe tbody tr th {\n",
       "        vertical-align: top;\n",
       "    }\n",
       "\n",
       "    .dataframe thead th {\n",
       "        text-align: right;\n",
       "    }\n",
       "</style>\n",
       "<table border=\"1\" class=\"dataframe\">\n",
       "  <thead>\n",
       "    <tr style=\"text-align: right;\">\n",
       "      <th></th>\n",
       "      <th>precipitation</th>\n",
       "    </tr>\n",
       "  </thead>\n",
       "  <tbody>\n",
       "    <tr>\n",
       "      <th>count</th>\n",
       "      <td>45.000000</td>\n",
       "    </tr>\n",
       "    <tr>\n",
       "      <th>mean</th>\n",
       "      <td>0.085333</td>\n",
       "    </tr>\n",
       "    <tr>\n",
       "      <th>std</th>\n",
       "      <td>0.152965</td>\n",
       "    </tr>\n",
       "    <tr>\n",
       "      <th>min</th>\n",
       "      <td>0.000000</td>\n",
       "    </tr>\n",
       "    <tr>\n",
       "      <th>25%</th>\n",
       "      <td>0.000000</td>\n",
       "    </tr>\n",
       "    <tr>\n",
       "      <th>50%</th>\n",
       "      <td>0.000000</td>\n",
       "    </tr>\n",
       "    <tr>\n",
       "      <th>75%</th>\n",
       "      <td>0.080000</td>\n",
       "    </tr>\n",
       "    <tr>\n",
       "      <th>max</th>\n",
       "      <td>0.560000</td>\n",
       "    </tr>\n",
       "  </tbody>\n",
       "</table>\n",
       "</div>"
      ],
      "text/plain": [
       "       precipitation\n",
       "count      45.000000\n",
       "mean        0.085333\n",
       "std         0.152965\n",
       "min         0.000000\n",
       "25%         0.000000\n",
       "50%         0.000000\n",
       "75%         0.080000\n",
       "max         0.560000"
      ]
     },
     "execution_count": 53,
     "metadata": {},
     "output_type": "execute_result"
    }
   ],
   "source": [
    "# Use Pandas to calcualte the summary statistics for the precipitation data\n",
    "df_precipitation.describe()"
   ]
  },
  {
   "cell_type": "markdown",
   "metadata": {},
   "source": [
    "# Exploratory Station Analysis"
   ]
  },
  {
   "cell_type": "code",
   "execution_count": 54,
   "metadata": {},
   "outputs": [
    {
     "data": {
      "text/plain": [
       "[(9,)]"
      ]
     },
     "execution_count": 54,
     "metadata": {},
     "output_type": "execute_result"
    }
   ],
   "source": [
    "# Design a query to calculate the total number stations in the dataset\n",
    "num_stations = session.query(func.count(Station.station)).distinct().all()\n",
    "num_stations"
   ]
  },
  {
   "cell_type": "code",
   "execution_count": 55,
   "metadata": {},
   "outputs": [
    {
     "name": "stdout",
     "output_type": "stream",
     "text": [
      "[('USC00519523', 1), ('USC00519397', 1), ('USC00519281', 1), ('USC00518838', 1), ('USC00517948', 1), ('USC00516128', 1), ('USC00514830', 1), ('USC00513117', 1), ('USC00511918', 1)]\n"
     ]
    }
   ],
   "source": [
    "# Design a query to find the most active stations (i.e. what stations have the most rows?)\n",
    "active_stations = session.query(Station.station, func.count(Station.station))\\\n",
    "    .group_by(Station.station).order_by(func.count(Station.station).desc()).all()\n",
    "\n",
    "# List the stations and the counts in descending order.\n",
    "print(active_stations)"
   ]
  },
  {
   "cell_type": "code",
   "execution_count": 56,
   "metadata": {},
   "outputs": [
    {
     "name": "stdout",
     "output_type": "stream",
     "text": [
      "('USC00519523', 56.0)\n",
      "('USC00519523', 56.0)\n",
      "('USC00519523', 85.0)\n",
      "[('USC00519523', 74.5436493068565)]\n"
     ]
    }
   ],
   "source": [
    "# Using the most active station id from the previous query, calculate the lowest, highest, and average temperature.\n",
    "most_active = active_stations[0][0]\n",
    "\n",
    "# lowest at USC00519281\n",
    "lowest = session.query(Measurement.station, Measurement.tobs).\\\n",
    "    filter(Measurement.station == most_active).order_by(Measurement.tobs.asc())\\\n",
    "        .first()\n",
    "print(lowest)\n",
    "\n",
    "lowest = session.query(Measurement.station, func.min(Measurement.tobs)).\\\n",
    "    filter(Measurement.station == most_active)\\\n",
    "        .first()\n",
    "print(lowest)\n",
    "\n",
    "# highest at USC00519281\n",
    "highest = session.query(Measurement.station, Measurement.tobs).\\\n",
    "    filter(Measurement.station == most_active).order_by(sqlalchemy.desc(Measurement.tobs))\\\n",
    "        .first()\n",
    "print(highest)\n",
    "\n",
    "# average at USC00519281\n",
    "average = session.query(Measurement.station, func.avg(Measurement.tobs)).\\\n",
    "    filter(Measurement.station == most_active).all()\n",
    "print(average)"
   ]
  },
  {
   "cell_type": "code",
   "execution_count": 57,
   "metadata": {},
   "outputs": [
    {
     "data": {
      "image/png": "[encoded data removed]",
      "text/plain": [
       "<Figure size 432x288 with 1 Axes>"
      ]
     },
     "metadata": {},
     "output_type": "display_data"
    }
   ],
   "source": [
    "# Using the most active station id\n",
    "# Query the last 12 months of temperature observation data for this station and plot the results as a histogram\n",
    "recent_date = session.query(Measurement.date)\\\n",
    "    .filter(Measurement.station == most_active)\\\n",
    "        .order_by(desc(Measurement.date)).first()[0]\n",
    "# print(recent_date)\n",
    "recent_date = dt.datetime.strptime(recent_date, '%Y-%m-%d')\n",
    "recent_date = recent_date.date()\n",
    "\n",
    "# Calculate the date one year from the last date in data set.\n",
    "last_date = recent_date - dt.timedelta(days=365)\n",
    "\n",
    "# Perform a query to retrieve the temperature data\n",
    "last12 = session.query(Measurement.date, Measurement.tobs)\\\n",
    "    .where(Measurement.date >= last_date)\\\n",
    "        .all()\n",
    "\n",
    "# Save the query results as a Pandas DataFrame and set the index to the date column\n",
    "df_temp = pd.DataFrame(last12, columns=['date','temp_obs'])\n",
    "df_temp.set_index('date', inplace=True)\n",
    "\n",
    "# Sort the dataframe by date\n",
    "df_temp.sort_index(ascending=False, axis=0)\n",
    "\n",
    "df_temp.hist()\n",
    "plt.show()"
   ]
  },
  {
   "cell_type": "code",
   "execution_count": null,
   "metadata": {},
   "outputs": [],
   "source": []
  },
  {
   "cell_type": "markdown",
   "metadata": {},
   "source": [
    "# Close session"
   ]
  },
  {
   "cell_type": "code",
   "execution_count": null,
   "metadata": {},
   "outputs": [],
   "source": [
    "# Close Session\n",
    "session.close()"
   ]
  }
 ],
 "metadata": {
  "anaconda-cloud": {},
  "kernel_info": {
   "name": "python3"
  },
  "kernelspec": {
   "display_name": "Python 3.6.10 ('pythondata')",
   "language": "python",
   "name": "python3"
  },
  "language_info": {
   "codemirror_mode": {
    "name": "ipython",
    "version": 3
   },
   "file_extension": ".py",
   "mimetype": "text/x-python",
   "name": "python",
   "nbconvert_exporter": "python",
   "pygments_lexer": "ipython3",
   "version": "3.6.10"
  },
  "nteract": {
   "version": "0.12.3"
  },
  "varInspector": {
   "cols": {
    "lenName": 16,
    "lenType": 16,
    "lenVar": 40
   },
   "kernels_config": {
    "python": {
     "delete_cmd_postfix": "",
     "delete_cmd_prefix": "del ",
     "library": "var_list.py",
     "varRefreshCmd": "print(var_dic_list())"
    },
    "r": {
     "delete_cmd_postfix": ") ",
     "delete_cmd_prefix": "rm(",
     "library": "var_list.r",
     "varRefreshCmd": "cat(var_dic_list()) "
    }
   },
   "types_to_exclude": [
    "module",
    "function",
    "builtin_function_or_method",
    "instance",
    "_Feature"
   ],
   "window_display": false
  },
  "vscode": {
   "interpreter": {
    "hash": "05442d59f91f3e4c0a2c479ce346a1bf3a77a52071e8e539a83b1fcf71a5ee7e"
   }
  }
 },
 "nbformat": 4,
 "nbformat_minor": 2
}
